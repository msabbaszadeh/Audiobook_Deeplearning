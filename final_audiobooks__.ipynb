{
  "nbformat": 4,
  "nbformat_minor": 0,
  "metadata": {
    "colab": {
      "provenance": []
    },
    "kernelspec": {
      "name": "python3",
      "display_name": "Python 3"
    },
    "language_info": {
      "name": "python"
    }
  },
  "cells": [
    {
      "cell_type": "code",
      "execution_count": 23,
      "metadata": {
        "id": "dyboGQuDDNqk"
      },
      "outputs": [],
      "source": [
        "import tensorflow as tf\n",
        "import numpy as np \n",
        "import pandas as pd\n",
        "from sklearn import preprocessing\n"
      ]
    },
    {
      "cell_type": "code",
      "source": [
        "dfraw=np.loadtxt('/content/19664156-Audiobooks-data[UdemyIran.Com].csv', delimiter=',')\n",
        "df_input= dfraw[:,1:-1]\n",
        "targetsall=dfraw[:,-1]\n"
      ],
      "metadata": {
        "id": "itBGw2uEGY_E"
      },
      "execution_count": 26,
      "outputs": []
    },
    {
      "cell_type": "code",
      "source": [
        "sum_of_targets= int(np.sum(targetsall))\n",
        "zero_counter= 0\n",
        "deletelist=[]\n",
        "for i in range(targetsall.shape[0]):\n",
        "  if targetsall[1]==0:\n",
        "    zero_counter +=1\n",
        "    if zero_counter> sum_of_targets:\n",
        "      deletelist.append(i)\n",
        "\n",
        "unscaled_inputs= np.delete(df_input, deletelist, axis=0)\n",
        "targets_equal_periors= np.delete(targetsall, deletelist, axis=0)\n",
        "\n",
        "\n"
      ],
      "metadata": {
        "id": "8racEg2EHBBo"
      },
      "execution_count": 68,
      "outputs": []
    },
    {
      "cell_type": "code",
      "source": [
        "scaled_inputs= preprocessing.scale (unscaled_inputs)"
      ],
      "metadata": {
        "id": "HxDHO-pBPjrl"
      },
      "execution_count": 69,
      "outputs": []
    },
    {
      "cell_type": "code",
      "source": [
        "scaled_inputs2= np.arange(scaled_inputs.shape[0])\n",
        "np.random.shuffle(scaled_inputs2)\n",
        "\n",
        "shuffled_inputs= scaled_inputs[scaled_inputs2]\n",
        "shuffled_targets=targets_equal_periors[scaled_inputs2]"
      ],
      "metadata": {
        "id": "XD7l-D5yZNuT"
      },
      "execution_count": 70,
      "outputs": []
    },
    {
      "cell_type": "code",
      "source": [
        "sample_count= scaled_inputs.shape[0]\n",
        "train_samples=int(sample_count*0.8)\n",
        "validate_sample=int(sample_count*0.1)\n",
        "test_sample=sample_count - train_samples-validate_sample\n"
      ],
      "metadata": {
        "id": "Kwt81GwfpTWH"
      },
      "execution_count": 71,
      "outputs": []
    },
    {
      "cell_type": "code",
      "source": [
        "train_inputs= shuffled_inputs[:train_samples]\n",
        "train_targets=shuffled_targets[:train_samples]\n",
        "validation_inputs= shuffled_inputs[train_samples:train_samples+validate_sample]\n",
        "validation_targets= shuffled_targets[train_samples:train_samples+validate_sample]\n",
        "test_inputs= shuffled_inputs[train_samples+validate_sample:]\n",
        "test_targets=shuffled_targets[train_samples+validate_sample:]\n",
        "print(np.sum(train_targets), train_samples)\n",
        "print(np.sum(validation_targets), validate_sample)\n",
        "print(np.sum(test_targets), test_sample)\n"
      ],
      "metadata": {
        "id": "oqtKHHSTtqog",
        "colab": {
          "base_uri": "https://localhost:8080/"
        },
        "outputId": "3f8024e6-b108-40c4-ad8c-51780009ce54"
      },
      "execution_count": 72,
      "outputs": [
        {
          "output_type": "stream",
          "name": "stdout",
          "text": [
            "428.0 1789\n",
            "54.0 223\n",
            "43.0 225\n"
          ]
        }
      ]
    },
    {
      "cell_type": "code",
      "source": [
        " np.savez('audiobooks_train', inputs= train_inputs, targets=train_targets)\n",
        " np.savez('audiobook_validation', inputs= validation_inputs, targets=validation_targets)\n",
        " np.savez('audiobook_test', inputs= test_inputs, targets= test_targets)"
      ],
      "metadata": {
        "id": "V4r0GyYiqVag"
      },
      "execution_count": 73,
      "outputs": []
    },
    {
      "cell_type": "code",
      "source": [
        "npz= np.load('/content/audiobooks_train.npz')\n",
        "train_inputs= npz['inputs'].astype(np.float)\n",
        "train_targets=npz['targets'].astype(np.int)\n",
        "\n",
        "npz=np.load('/content/audiobook_validation.npz')\n",
        "validation_inputs=npz['inputs'].astype(np.float)\n",
        "validation_targets=npz['targets'].astype(np.int)\n",
        "\n",
        "npz= np.load('/content/audiobook_test.npz')\n",
        "test_inputs=npz['inputs'].astype(np.float)\n",
        "test_targets=npz['targets'].astype(np.int)"
      ],
      "metadata": {
        "id": "6_h3ZZJduzmu",
        "colab": {
          "base_uri": "https://localhost:8080/"
        },
        "outputId": "c67d612c-737d-4e67-9b65-feffe7949be4"
      },
      "execution_count": 74,
      "outputs": [
        {
          "output_type": "stream",
          "name": "stderr",
          "text": [
            "/usr/local/lib/python3.7/dist-packages/ipykernel_launcher.py:2: DeprecationWarning: `np.float` is a deprecated alias for the builtin `float`. To silence this warning, use `float` by itself. Doing this will not modify any behavior and is safe. If you specifically wanted the numpy scalar type, use `np.float64` here.\n",
            "Deprecated in NumPy 1.20; for more details and guidance: https://numpy.org/devdocs/release/1.20.0-notes.html#deprecations\n",
            "  \n",
            "/usr/local/lib/python3.7/dist-packages/ipykernel_launcher.py:3: DeprecationWarning: `np.int` is a deprecated alias for the builtin `int`. To silence this warning, use `int` by itself. Doing this will not modify any behavior and is safe. When replacing `np.int`, you may wish to use e.g. `np.int64` or `np.int32` to specify the precision. If you wish to review your current use, check the release note link for additional information.\n",
            "Deprecated in NumPy 1.20; for more details and guidance: https://numpy.org/devdocs/release/1.20.0-notes.html#deprecations\n",
            "  This is separate from the ipykernel package so we can avoid doing imports until\n",
            "/usr/local/lib/python3.7/dist-packages/ipykernel_launcher.py:6: DeprecationWarning: `np.float` is a deprecated alias for the builtin `float`. To silence this warning, use `float` by itself. Doing this will not modify any behavior and is safe. If you specifically wanted the numpy scalar type, use `np.float64` here.\n",
            "Deprecated in NumPy 1.20; for more details and guidance: https://numpy.org/devdocs/release/1.20.0-notes.html#deprecations\n",
            "  \n",
            "/usr/local/lib/python3.7/dist-packages/ipykernel_launcher.py:7: DeprecationWarning: `np.int` is a deprecated alias for the builtin `int`. To silence this warning, use `int` by itself. Doing this will not modify any behavior and is safe. When replacing `np.int`, you may wish to use e.g. `np.int64` or `np.int32` to specify the precision. If you wish to review your current use, check the release note link for additional information.\n",
            "Deprecated in NumPy 1.20; for more details and guidance: https://numpy.org/devdocs/release/1.20.0-notes.html#deprecations\n",
            "  import sys\n",
            "/usr/local/lib/python3.7/dist-packages/ipykernel_launcher.py:10: DeprecationWarning: `np.float` is a deprecated alias for the builtin `float`. To silence this warning, use `float` by itself. Doing this will not modify any behavior and is safe. If you specifically wanted the numpy scalar type, use `np.float64` here.\n",
            "Deprecated in NumPy 1.20; for more details and guidance: https://numpy.org/devdocs/release/1.20.0-notes.html#deprecations\n",
            "  # Remove the CWD from sys.path while we load stuff.\n",
            "/usr/local/lib/python3.7/dist-packages/ipykernel_launcher.py:11: DeprecationWarning: `np.int` is a deprecated alias for the builtin `int`. To silence this warning, use `int` by itself. Doing this will not modify any behavior and is safe. When replacing `np.int`, you may wish to use e.g. `np.int64` or `np.int32` to specify the precision. If you wish to review your current use, check the release note link for additional information.\n",
            "Deprecated in NumPy 1.20; for more details and guidance: https://numpy.org/devdocs/release/1.20.0-notes.html#deprecations\n",
            "  # This is added back by InteractiveShellApp.init_path()\n"
          ]
        }
      ]
    },
    {
      "cell_type": "code",
      "source": [],
      "metadata": {
        "id": "d-cNHYggI5Ip"
      },
      "execution_count": null,
      "outputs": []
    },
    {
      "cell_type": "code",
      "source": [
        "input_size=10\n",
        "output_size=2\n",
        "hidden_layer_size=50\n",
        "model=tf.keras.Sequential([tf.keras.layers.Dense(hidden_layer_size, activation='relu'),\n",
        "                           tf.keras.layers.Dense(hidden_layer_size, activation='relu'),\n",
        "                           tf.keras.layers.Dense(output_size, activation='softmax')\n",
        "    \n",
        "])\n",
        "model.compile(optimizer='adam',loss= 'sparse_categorical_crossentropy', metrics=['accuracy'] )\n",
        "\n",
        "batch_size=50\n",
        "max_epochs=50\n",
        "early_stop=tf.keras.callbacks.EarlyStopping(patience=4)\n",
        "model.fit(train_inputs,\n",
        "          train_targets,\n",
        "          batch_size=batch_size,\n",
        "          epochs=max_epochs,\n",
        "          callbacks=[early_stop],\n",
        "          validation_data=(validation_inputs, validation_targets),\n",
        "          verbose=1)\n"
      ],
      "metadata": {
        "colab": {
          "base_uri": "https://localhost:8080/"
        },
        "id": "k-6df-uP2kk-",
        "outputId": "80b77ff6-cc88-4ba4-d8dd-74cb73e1ea62"
      },
      "execution_count": 75,
      "outputs": [
        {
          "output_type": "stream",
          "name": "stdout",
          "text": [
            "Epoch 1/50\n",
            "36/36 [==============================] - 1s 7ms/step - loss: 0.5425 - accuracy: 0.7742 - val_loss: 0.4603 - val_accuracy: 0.8072\n",
            "Epoch 2/50\n",
            "36/36 [==============================] - 0s 3ms/step - loss: 0.4171 - accuracy: 0.8278 - val_loss: 0.3796 - val_accuracy: 0.8430\n",
            "Epoch 3/50\n",
            "36/36 [==============================] - 0s 3ms/step - loss: 0.3613 - accuracy: 0.8463 - val_loss: 0.3468 - val_accuracy: 0.8475\n",
            "Epoch 4/50\n",
            "36/36 [==============================] - 0s 3ms/step - loss: 0.3378 - accuracy: 0.8496 - val_loss: 0.3212 - val_accuracy: 0.8520\n",
            "Epoch 5/50\n",
            "36/36 [==============================] - 0s 4ms/step - loss: 0.3216 - accuracy: 0.8569 - val_loss: 0.3058 - val_accuracy: 0.8520\n",
            "Epoch 6/50\n",
            "36/36 [==============================] - 0s 3ms/step - loss: 0.3107 - accuracy: 0.8563 - val_loss: 0.2967 - val_accuracy: 0.8520\n",
            "Epoch 7/50\n",
            "36/36 [==============================] - 0s 3ms/step - loss: 0.3022 - accuracy: 0.8552 - val_loss: 0.2886 - val_accuracy: 0.8879\n",
            "Epoch 8/50\n",
            "36/36 [==============================] - 0s 3ms/step - loss: 0.2982 - accuracy: 0.8653 - val_loss: 0.2883 - val_accuracy: 0.8610\n",
            "Epoch 9/50\n",
            "36/36 [==============================] - 0s 3ms/step - loss: 0.2954 - accuracy: 0.8619 - val_loss: 0.2778 - val_accuracy: 0.8834\n",
            "Epoch 10/50\n",
            "36/36 [==============================] - 0s 3ms/step - loss: 0.2932 - accuracy: 0.8658 - val_loss: 0.2793 - val_accuracy: 0.8744\n",
            "Epoch 11/50\n",
            "36/36 [==============================] - 0s 3ms/step - loss: 0.2890 - accuracy: 0.8653 - val_loss: 0.2709 - val_accuracy: 0.8879\n",
            "Epoch 12/50\n",
            "36/36 [==============================] - 0s 3ms/step - loss: 0.2832 - accuracy: 0.8675 - val_loss: 0.2758 - val_accuracy: 0.8744\n",
            "Epoch 13/50\n",
            "36/36 [==============================] - 0s 3ms/step - loss: 0.2825 - accuracy: 0.8636 - val_loss: 0.2707 - val_accuracy: 0.8834\n",
            "Epoch 14/50\n",
            "36/36 [==============================] - 0s 4ms/step - loss: 0.2797 - accuracy: 0.8709 - val_loss: 0.2661 - val_accuracy: 0.8834\n",
            "Epoch 15/50\n",
            "36/36 [==============================] - 0s 3ms/step - loss: 0.2774 - accuracy: 0.8709 - val_loss: 0.2696 - val_accuracy: 0.8744\n",
            "Epoch 16/50\n",
            "36/36 [==============================] - 0s 4ms/step - loss: 0.2754 - accuracy: 0.8720 - val_loss: 0.2638 - val_accuracy: 0.8834\n",
            "Epoch 17/50\n",
            "36/36 [==============================] - 0s 3ms/step - loss: 0.2774 - accuracy: 0.8731 - val_loss: 0.2652 - val_accuracy: 0.8834\n",
            "Epoch 18/50\n",
            "36/36 [==============================] - 0s 4ms/step - loss: 0.2760 - accuracy: 0.8748 - val_loss: 0.2589 - val_accuracy: 0.8879\n",
            "Epoch 19/50\n",
            "36/36 [==============================] - 0s 4ms/step - loss: 0.2741 - accuracy: 0.8720 - val_loss: 0.2625 - val_accuracy: 0.8744\n",
            "Epoch 20/50\n",
            "36/36 [==============================] - 0s 3ms/step - loss: 0.2695 - accuracy: 0.8742 - val_loss: 0.2726 - val_accuracy: 0.8789\n",
            "Epoch 21/50\n",
            "36/36 [==============================] - 0s 3ms/step - loss: 0.2713 - accuracy: 0.8703 - val_loss: 0.2641 - val_accuracy: 0.8789\n",
            "Epoch 22/50\n",
            "36/36 [==============================] - 0s 4ms/step - loss: 0.2699 - accuracy: 0.8781 - val_loss: 0.2630 - val_accuracy: 0.8834\n"
          ]
        },
        {
          "output_type": "execute_result",
          "data": {
            "text/plain": [
              "<keras.callbacks.History at 0x7f95021dead0>"
            ]
          },
          "metadata": {},
          "execution_count": 75
        }
      ]
    },
    {
      "cell_type": "code",
      "source": [
        "test_accuracy=model.evaluate(test_inputs, test_targets)"
      ],
      "metadata": {
        "colab": {
          "base_uri": "https://localhost:8080/"
        },
        "id": "J9KqlFjv7A2P",
        "outputId": "b35163f0-d93f-4244-b204-63d6caba360a"
      },
      "execution_count": 76,
      "outputs": [
        {
          "output_type": "stream",
          "name": "stdout",
          "text": [
            "8/8 [==============================] - 0s 2ms/step - loss: 0.2821 - accuracy: 0.8933\n"
          ]
        }
      ]
    },
    {
      "cell_type": "code",
      "source": [
        "print(test_accuracy)"
      ],
      "metadata": {
        "colab": {
          "base_uri": "https://localhost:8080/"
        },
        "id": "oKHKH2QHJSpS",
        "outputId": "622bdaa4-944e-4cd4-b51f-478e7cb6d371"
      },
      "execution_count": 77,
      "outputs": [
        {
          "output_type": "stream",
          "name": "stdout",
          "text": [
            "[0.28206294775009155, 0.8933333158493042]\n"
          ]
        }
      ]
    },
    {
      "cell_type": "code",
      "source": [],
      "metadata": {
        "id": "E_p2IaJDKVzd"
      },
      "execution_count": null,
      "outputs": []
    }
  ]
}